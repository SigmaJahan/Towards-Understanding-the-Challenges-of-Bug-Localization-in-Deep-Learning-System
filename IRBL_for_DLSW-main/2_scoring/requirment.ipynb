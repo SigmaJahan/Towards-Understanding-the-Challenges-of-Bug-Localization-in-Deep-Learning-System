{
 "cells": [
  {
   "cell_type": "code",
   "execution_count": 1,
   "metadata": {},
   "outputs": [
    {
     "name": "stdout",
     "output_type": "stream",
     "text": [
      "Requirement already satisfied: sklearn in c:\\users\\sigma\\desktop\\icsme-2023\\irbl_for_dlsw-main\\irbl_for_dlsw-main\\py\\lib\\site-packages (0.0.post1)\n",
      "Note: you may need to restart the kernel to use updated packages.\n"
     ]
    }
   ],
   "source": [
    "pip install sklearn"
   ]
  },
  {
   "cell_type": "code",
   "execution_count": 4,
   "metadata": {},
   "outputs": [
    {
     "name": "stdout",
     "output_type": "stream",
     "text": [
      "Collecting scikit-learn\n",
      "  Using cached scikit_learn-1.2.1-cp311-cp311-win_amd64.whl (8.2 MB)\n",
      "Collecting scipy\n",
      "  Downloading scipy-1.10.1-cp311-cp311-win_amd64.whl (42.2 MB)\n",
      "     ---------------------------------------- 0.0/42.2 MB ? eta -:--:--\n",
      "     ---------------------------------------- 0.1/42.2 MB 2.8 MB/s eta 0:00:15\n",
      "      --------------------------------------- 0.7/42.2 MB 7.5 MB/s eta 0:00:06\n",
      "     - -------------------------------------- 1.9/42.2 MB 13.7 MB/s eta 0:00:03\n",
      "     -- ------------------------------------- 3.1/42.2 MB 16.5 MB/s eta 0:00:03\n",
      "     ---- ----------------------------------- 4.3/42.2 MB 18.4 MB/s eta 0:00:03\n",
      "     ----- ---------------------------------- 5.4/42.2 MB 20.3 MB/s eta 0:00:02\n",
      "     ------ --------------------------------- 6.5/42.2 MB 20.8 MB/s eta 0:00:02\n",
      "     ------ --------------------------------- 6.6/42.2 MB 20.0 MB/s eta 0:00:02\n",
      "     -------- ------------------------------- 8.5/42.2 MB 20.2 MB/s eta 0:00:02\n",
      "     -------- ------------------------------- 9.4/42.2 MB 20.7 MB/s eta 0:00:02\n",
      "     --------- ----------------------------- 10.7/42.2 MB 23.4 MB/s eta 0:00:02\n",
      "     ---------- ---------------------------- 11.8/42.2 MB 24.2 MB/s eta 0:00:02\n",
      "     ------------ -------------------------- 13.0/42.2 MB 24.2 MB/s eta 0:00:02\n",
      "     ------------ -------------------------- 13.9/42.2 MB 23.4 MB/s eta 0:00:02\n",
      "     -------------- ------------------------ 15.2/42.2 MB 24.2 MB/s eta 0:00:02\n",
      "     --------------- ----------------------- 16.5/42.2 MB 24.2 MB/s eta 0:00:02\n",
      "     ---------------- ---------------------- 17.9/42.2 MB 27.3 MB/s eta 0:00:01\n",
      "     ----------------- --------------------- 19.2/42.2 MB 26.2 MB/s eta 0:00:01\n",
      "     ------------------- ------------------- 20.6/42.2 MB 27.3 MB/s eta 0:00:01\n",
      "     -------------------- ------------------ 22.0/42.2 MB 27.3 MB/s eta 0:00:01\n",
      "     --------------------- ----------------- 23.4/42.2 MB 28.4 MB/s eta 0:00:01\n",
      "     ---------------------- ---------------- 24.6/42.2 MB 28.5 MB/s eta 0:00:01\n",
      "     ----------------------- --------------- 25.9/42.2 MB 29.8 MB/s eta 0:00:01\n",
      "     ------------------------ -------------- 27.0/42.2 MB 28.5 MB/s eta 0:00:01\n",
      "     -------------------------- ------------ 28.2/42.2 MB 27.3 MB/s eta 0:00:01\n",
      "     --------------------------- ----------- 29.6/42.2 MB 27.3 MB/s eta 0:00:01\n",
      "     ---------------------------- ---------- 31.0/42.2 MB 28.4 MB/s eta 0:00:01\n",
      "     ----------------------------- --------- 32.3/42.2 MB 28.5 MB/s eta 0:00:01\n",
      "     ------------------------------ -------- 33.5/42.2 MB 28.5 MB/s eta 0:00:01\n",
      "     -------------------------------- ------ 34.7/42.2 MB 28.4 MB/s eta 0:00:01\n",
      "     --------------------------------- ----- 35.8/42.2 MB 27.3 MB/s eta 0:00:01\n",
      "     --------------------------------- ----- 36.8/42.2 MB 26.2 MB/s eta 0:00:01\n",
      "     ----------------------------------- --- 38.1/42.2 MB 27.3 MB/s eta 0:00:01\n",
      "     ------------------------------------ -- 39.5/42.2 MB 27.3 MB/s eta 0:00:01\n",
      "     ------------------------------------- - 40.5/42.2 MB 27.3 MB/s eta 0:00:01\n",
      "     ------------------------------------- - 40.9/42.2 MB 24.2 MB/s eta 0:00:01\n",
      "     --------------------------------------  42.2/42.2 MB 26.2 MB/s eta 0:00:01\n",
      "     --------------------------------------- 42.2/42.2 MB 21.8 MB/s eta 0:00:00\n",
      "Collecting matplotlib\n",
      "  Downloading matplotlib-3.7.1-cp311-cp311-win_amd64.whl (7.6 MB)\n",
      "     ---------------------------------------- 0.0/7.6 MB ? eta -:--:--\n",
      "     ----- ---------------------------------- 1.1/7.6 MB 23.7 MB/s eta 0:00:01\n",
      "     ----------- ---------------------------- 2.2/7.6 MB 23.4 MB/s eta 0:00:01\n",
      "     ------------------ --------------------- 3.5/7.6 MB 24.7 MB/s eta 0:00:01\n",
      "     ------------------------- -------------- 4.8/7.6 MB 25.8 MB/s eta 0:00:01\n",
      "     -------------------------------- ------- 6.2/7.6 MB 26.7 MB/s eta 0:00:01\n",
      "     ---------------------------------------  7.6/7.6 MB 27.1 MB/s eta 0:00:01\n",
      "     ---------------------------------------- 7.6/7.6 MB 25.6 MB/s eta 0:00:00\n",
      "Collecting numpy>=1.17.3\n",
      "  Using cached numpy-1.24.2-cp311-cp311-win_amd64.whl (14.8 MB)\n",
      "Requirement already satisfied: joblib>=1.1.1 in c:\\users\\sigma\\desktop\\icsme-2023\\irbl_for_dlsw-main\\irbl_for_dlsw-main\\py\\lib\\site-packages (from scikit-learn) (1.2.0)\n",
      "Collecting threadpoolctl>=2.0.0\n",
      "  Using cached threadpoolctl-3.1.0-py3-none-any.whl (14 kB)\n",
      "Collecting contourpy>=1.0.1\n",
      "  Using cached contourpy-1.0.7-cp311-cp311-win_amd64.whl (162 kB)\n",
      "Collecting cycler>=0.10\n",
      "  Using cached cycler-0.11.0-py3-none-any.whl (6.4 kB)\n",
      "Collecting fonttools>=4.22.0\n",
      "  Downloading fonttools-4.39.0-py3-none-any.whl (1.0 MB)\n",
      "     ---------------------------------------- 0.0/1.0 MB ? eta -:--:--\n",
      "     ----------------------------------- ---- 0.9/1.0 MB 28.4 MB/s eta 0:00:01\n",
      "     ---------------------------------------- 1.0/1.0 MB 21.1 MB/s eta 0:00:00\n",
      "Collecting kiwisolver>=1.0.1\n",
      "  Using cached kiwisolver-1.4.4-cp311-cp311-win_amd64.whl (55 kB)\n",
      "Requirement already satisfied: packaging>=20.0 in c:\\users\\sigma\\desktop\\icsme-2023\\irbl_for_dlsw-main\\irbl_for_dlsw-main\\py\\lib\\site-packages (from matplotlib) (23.0)\n",
      "Collecting pillow>=6.2.0\n",
      "  Using cached Pillow-9.4.0-cp311-cp311-win_amd64.whl (2.5 MB)\n",
      "Collecting pyparsing>=2.3.1\n",
      "  Using cached pyparsing-3.0.9-py3-none-any.whl (98 kB)\n",
      "Requirement already satisfied: python-dateutil>=2.7 in c:\\users\\sigma\\desktop\\icsme-2023\\irbl_for_dlsw-main\\irbl_for_dlsw-main\\py\\lib\\site-packages (from matplotlib) (2.8.2)\n",
      "Requirement already satisfied: six>=1.5 in c:\\users\\sigma\\desktop\\icsme-2023\\irbl_for_dlsw-main\\irbl_for_dlsw-main\\py\\lib\\site-packages (from python-dateutil>=2.7->matplotlib) (1.16.0)\n",
      "Installing collected packages: threadpoolctl, pyparsing, pillow, numpy, kiwisolver, fonttools, cycler, scipy, contourpy, scikit-learn, matplotlib\n",
      "Successfully installed contourpy-1.0.7 cycler-0.11.0 fonttools-4.39.0 kiwisolver-1.4.4 matplotlib-3.7.1 numpy-1.24.2 pillow-9.4.0 pyparsing-3.0.9 scikit-learn-1.2.1 scipy-1.10.1 threadpoolctl-3.1.0\n",
      "Note: you may need to restart the kernel to use updated packages.\n"
     ]
    }
   ],
   "source": [
    "pip install -U scikit-learn scipy matplotlib"
   ]
  },
  {
   "cell_type": "code",
   "execution_count": 5,
   "metadata": {},
   "outputs": [],
   "source": [
    "import sklearn\n",
    "import csv"
   ]
  },
  {
   "cell_type": "code",
   "execution_count": null,
   "metadata": {},
   "outputs": [],
   "source": []
  }
 ],
 "metadata": {
  "kernelspec": {
   "display_name": "py",
   "language": "python",
   "name": "python3"
  },
  "language_info": {
   "codemirror_mode": {
    "name": "ipython",
    "version": 3
   },
   "file_extension": ".py",
   "mimetype": "text/x-python",
   "name": "python",
   "nbconvert_exporter": "python",
   "pygments_lexer": "ipython3",
   "version": "3.11.0"
  },
  "orig_nbformat": 4
 },
 "nbformat": 4,
 "nbformat_minor": 2
}
