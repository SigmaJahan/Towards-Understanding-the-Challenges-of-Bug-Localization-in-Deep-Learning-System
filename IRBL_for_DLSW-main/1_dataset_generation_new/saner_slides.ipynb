{
 "cells": [
  {
   "cell_type": "code",
   "execution_count": null,
   "metadata": {
    "collapsed": true,
    "pycharm": {
     "is_executing": true
    }
   },
   "outputs": [],
   "source": [
    "#top_10, Eclipse, Firefox, Mobile\n",
    "BM25_whole =  42.03, 33.64, 35.38\n",
    "BM25_textually_similar =  43.26, 39.92, 48.00\n",
    "BM25_textually_dissimilar  =  41.27, 26.56, 35.96\n",
    "\n",
    "LDA_whole =  10.50, 10.50, 7.00\n",
    "LDA_textually_similar =  13.50, 8.50, 7.50\n",
    "LDA_textually_dissimilar  =  11.50, 5.00, 4.50\n",
    "\n"
   ]
  },
  {
   "cell_type": "code",
   "execution_count": null,
   "outputs": [],
   "source": [],
   "metadata": {
    "collapsed": false
   }
  },
  {
   "cell_type": "code",
   "execution_count": null,
   "outputs": [],
   "source": [
    "import numpy as np\n",
    "import matplotlib.pyplot as plt\n",
    "\n",
    "# write a code to plot the above results"
   ],
   "metadata": {
    "collapsed": false,
    "pycharm": {
     "is_executing": true
    }
   }
  },
  {
   "cell_type": "code",
   "execution_count": null,
   "outputs": [],
   "source": [
    "LDA_whole =  10.50, 10.50, 7.00\n",
    "LDA_textually_similar =  13.50, 8.50, 7.50\n",
    "LDA_textually_dissimilar  =  11.50, 5.00, 4.50"
   ],
   "metadata": {
    "collapsed": false
   }
  },
  {
   "cell_type": "markdown",
   "source": [],
   "metadata": {
    "collapsed": false
   }
  }
 ],
 "metadata": {
  "kernelspec": {
   "display_name": "Python 3",
   "language": "python",
   "name": "python3"
  },
  "language_info": {
   "codemirror_mode": {
    "name": "ipython",
    "version": 2
   },
   "file_extension": ".py",
   "mimetype": "text/x-python",
   "name": "python",
   "nbconvert_exporter": "python",
   "pygments_lexer": "ipython2",
   "version": "2.7.6"
  }
 },
 "nbformat": 4,
 "nbformat_minor": 0
}
