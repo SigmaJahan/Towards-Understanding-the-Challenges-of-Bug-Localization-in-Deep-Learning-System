{
 "cells": [
  {
   "cell_type": "code",
   "execution_count": 1,
   "metadata": {},
   "outputs": [],
   "source": [
    "import pandas as pd"
   ]
  },
  {
   "cell_type": "code",
   "execution_count": 33,
   "metadata": {},
   "outputs": [],
   "source": [
    "df = pd.read_csv('./output.csv', header = None)\n",
    "backup_df = df"
   ]
  },
  {
   "cell_type": "code",
   "execution_count": 34,
   "metadata": {},
   "outputs": [
    {
     "name": "stdout",
     "output_type": "stream",
     "text": [
      "(8973965, 13)\n"
     ]
    }
   ],
   "source": [
    "print (df.shape)"
   ]
  },
  {
   "cell_type": "code",
   "execution_count": 35,
   "metadata": {},
   "outputs": [],
   "source": [
    "# Pick the rows where the fifth column is 15\n",
    "df = df[df[5] == 15]\n",
    "backup_df = backup_df[backup_df[5] == 15]"
   ]
  },
  {
   "cell_type": "code",
   "execution_count": 36,
   "metadata": {},
   "outputs": [],
   "source": [
    "# Drop the first 5 columns\n",
    "df = df.drop(df.columns[[0, 1, 2, 3, 4, 5]], axis=1)"
   ]
  },
  {
   "cell_type": "code",
   "execution_count": 37,
   "metadata": {},
   "outputs": [],
   "source": [
    "# Drop the column with the name 7, 9, 10\n",
    "df = df.drop([7], axis=1)"
   ]
  },
  {
   "cell_type": "code",
   "execution_count": 52,
   "metadata": {},
   "outputs": [],
   "source": [
    "# Sum the values of column 11, 12 which have the same 6th column and 8th column, and average them by number of occurences of the same 6th column and 8th column\n",
    "result = df.groupby([6, 8])[[11, 12]].mean()"
   ]
  },
  {
   "cell_type": "code",
   "execution_count": 55,
   "metadata": {},
   "outputs": [
    {
     "data": {
      "text/html": [
       "<div>\n",
       "<style scoped>\n",
       "    .dataframe tbody tr th:only-of-type {\n",
       "        vertical-align: middle;\n",
       "    }\n",
       "\n",
       "    .dataframe tbody tr th {\n",
       "        vertical-align: top;\n",
       "    }\n",
       "\n",
       "    .dataframe thead th {\n",
       "        text-align: right;\n",
       "    }\n",
       "</style>\n",
       "<table border=\"1\" class=\"dataframe\">\n",
       "  <thead>\n",
       "    <tr style=\"text-align: right;\">\n",
       "      <th></th>\n",
       "      <th></th>\n",
       "      <th>11</th>\n",
       "      <th>12</th>\n",
       "    </tr>\n",
       "    <tr>\n",
       "      <th>6</th>\n",
       "      <th>8</th>\n",
       "      <th></th>\n",
       "      <th></th>\n",
       "    </tr>\n",
       "  </thead>\n",
       "  <tbody>\n",
       "    <tr>\n",
       "      <th rowspan=\"6\" valign=\"top\">albumentations-team+albumentations</th>\n",
       "      <th>180</th>\n",
       "      <td>0.857143</td>\n",
       "      <td>0.857143</td>\n",
       "    </tr>\n",
       "    <tr>\n",
       "      <th>186</th>\n",
       "      <td>0.939138</td>\n",
       "      <td>0.495109</td>\n",
       "    </tr>\n",
       "    <tr>\n",
       "      <th>207</th>\n",
       "      <td>0.299018</td>\n",
       "      <td>0.254698</td>\n",
       "    </tr>\n",
       "    <tr>\n",
       "      <th>213</th>\n",
       "      <td>0.954046</td>\n",
       "      <td>0.945734</td>\n",
       "    </tr>\n",
       "    <tr>\n",
       "      <th>215</th>\n",
       "      <td>0.208601</td>\n",
       "      <td>0.208601</td>\n",
       "    </tr>\n",
       "    <tr>\n",
       "      <th>760</th>\n",
       "      <td>0.309153</td>\n",
       "      <td>0.309153</td>\n",
       "    </tr>\n",
       "    <tr>\n",
       "      <th>allegroai+clearml</th>\n",
       "      <th>273</th>\n",
       "      <td>0.716814</td>\n",
       "      <td>0.716814</td>\n",
       "    </tr>\n",
       "    <tr>\n",
       "      <th rowspan=\"13\" valign=\"top\">allenai+allennlp</th>\n",
       "      <th>292</th>\n",
       "      <td>0.781026</td>\n",
       "      <td>0.633705</td>\n",
       "    </tr>\n",
       "    <tr>\n",
       "      <th>572</th>\n",
       "      <td>0.616040</td>\n",
       "      <td>0.665053</td>\n",
       "    </tr>\n",
       "    <tr>\n",
       "      <th>4255</th>\n",
       "      <td>0.496167</td>\n",
       "      <td>0.496167</td>\n",
       "    </tr>\n",
       "    <tr>\n",
       "      <th>4281</th>\n",
       "      <td>0.533241</td>\n",
       "      <td>0.282848</td>\n",
       "    </tr>\n",
       "    <tr>\n",
       "      <th>4318</th>\n",
       "      <td>0.535016</td>\n",
       "      <td>0.414431</td>\n",
       "    </tr>\n",
       "    <tr>\n",
       "      <th>4319</th>\n",
       "      <td>0.325432</td>\n",
       "      <td>0.325432</td>\n",
       "    </tr>\n",
       "    <tr>\n",
       "      <th>4330</th>\n",
       "      <td>0.080094</td>\n",
       "      <td>0.071938</td>\n",
       "    </tr>\n",
       "    <tr>\n",
       "      <th>4357</th>\n",
       "      <td>0.258320</td>\n",
       "      <td>0.293239</td>\n",
       "    </tr>\n",
       "    <tr>\n",
       "      <th>4360</th>\n",
       "      <td>0.661783</td>\n",
       "      <td>0.296608</td>\n",
       "    </tr>\n",
       "    <tr>\n",
       "      <th>4378</th>\n",
       "      <td>0.327394</td>\n",
       "      <td>0.146433</td>\n",
       "    </tr>\n",
       "    <tr>\n",
       "      <th>4427</th>\n",
       "      <td>0.655354</td>\n",
       "      <td>0.655354</td>\n",
       "    </tr>\n",
       "    <tr>\n",
       "      <th>4428</th>\n",
       "      <td>0.106653</td>\n",
       "      <td>0.106653</td>\n",
       "    </tr>\n",
       "    <tr>\n",
       "      <th>4494</th>\n",
       "      <td>0.286728</td>\n",
       "      <td>0.286728</td>\n",
       "    </tr>\n",
       "  </tbody>\n",
       "</table>\n",
       "</div>"
      ],
      "text/plain": [
       "                                               11        12\n",
       "6                                  8                       \n",
       "albumentations-team+albumentations 180   0.857143  0.857143\n",
       "                                   186   0.939138  0.495109\n",
       "                                   207   0.299018  0.254698\n",
       "                                   213   0.954046  0.945734\n",
       "                                   215   0.208601  0.208601\n",
       "                                   760   0.309153  0.309153\n",
       "allegroai+clearml                  273   0.716814  0.716814\n",
       "allenai+allennlp                   292   0.781026  0.633705\n",
       "                                   572   0.616040  0.665053\n",
       "                                   4255  0.496167  0.496167\n",
       "                                   4281  0.533241  0.282848\n",
       "                                   4318  0.535016  0.414431\n",
       "                                   4319  0.325432  0.325432\n",
       "                                   4330  0.080094  0.071938\n",
       "                                   4357  0.258320  0.293239\n",
       "                                   4360  0.661783  0.296608\n",
       "                                   4378  0.327394  0.146433\n",
       "                                   4427  0.655354  0.655354\n",
       "                                   4428  0.106653  0.106653\n",
       "                                   4494  0.286728  0.286728"
      ]
     },
     "execution_count": 55,
     "metadata": {},
     "output_type": "execute_result"
    }
   ],
   "source": [
    "result [0:20]"
   ]
  },
  {
   "cell_type": "code",
   "execution_count": 56,
   "metadata": {},
   "outputs": [],
   "source": [
    "#download the result as a csv file\n",
    "result.to_csv('results_rq1_BLIA.csv')"
   ]
  },
  {
   "cell_type": "code",
   "execution_count": null,
   "metadata": {},
   "outputs": [],
   "source": []
  }
 ],
 "metadata": {
  "kernelspec": {
   "display_name": "py",
   "language": "python",
   "name": "python3"
  },
  "language_info": {
   "codemirror_mode": {
    "name": "ipython",
    "version": 3
   },
   "file_extension": ".py",
   "mimetype": "text/x-python",
   "name": "python",
   "nbconvert_exporter": "python",
   "pygments_lexer": "ipython3",
   "version": "3.11.0"
  },
  "orig_nbformat": 4
 },
 "nbformat": 4,
 "nbformat_minor": 2
}
